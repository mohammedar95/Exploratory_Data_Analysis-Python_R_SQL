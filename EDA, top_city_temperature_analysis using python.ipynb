{
 "cells": [
  {
   "cell_type": "markdown",
   "metadata": {
    "id": "-bkSOABX6-dV"
   },
   "source": [
    "## Data Description\n",
    "\n",
    "The data below represents average daily temperatures for the month of August 2000 are provided below for 7 major European cities.  Thus, each city-named variable is assigned a list of 31 values, one for every day in the month of August.  They are sequential, so the first value represents the average daily temperature on August 1 and the last value represents the average daily temperature on August 31.  \n",
    "\n",
    "In other words, the data format is:\n",
    "\n",
    "`city_name = [august1_temp, august2_temp, ... , august31_temp]`\n",
    "\n",
    "Run the code block to load the data.  Then use this data 1 and 2."
   ]
  },
  {
   "cell_type": "code",
   "execution_count": 1,
   "metadata": {
    "id": "1lLXc43i67Wv"
   },
   "outputs": [],
   "source": [
    "# Each data point represents one day in the month of August 2000. \n",
    "# e.g. the first data point was the avg daily temperature on August 1, 2000\n",
    "paris =      [75.9, 67.2, 64.2, 63.3, 65.5, 67.0, 70.3, 68.1, 70.9, 68.0, 69.9, 74.0, 77.1, 74.1, 70.0, 69.8, 69.9, 67.9, 65.9, 63.3, 62.4, 63.8, 68.6, 73.3, 75.8, 70.7, 63.5, 64.6, 66.4, 66.4, 65.3]\n",
    "helsinki =   [60.2, 62.1, 61.7, 61.7, 60.2, 62.7, 61.9, 58.6, 56.8, 59.8, 59.9, 61.8, 63.0, 63.9, 60.1, 64.5, 59.5, 57.4, 60.3, 60.2, 60.4, 58.9, 54.6, 54.3, 57.2, 58.9, 58.5, 59.0, 59.2, 61.1, 60.9]\n",
    "copenhagen = [61.2, 62.4, 60.6, 60.6, 59.0, 61.5, 57.6, 57.5, 58.8, 57.5, 60.5, 59.5, 58.6, 61.7, 65.5, 60.6, 60.2, 60.5, 60.3, 60.9, 57.4, 56.2, 56.3, 55.9, 57.9, 58.4, 62.0, 61.0, 61.8, 57.6, 55.5]\n",
    "rome =       [73.9, 73.5, 73.6, 75.2, 71.8, 70.0, 71.4, 73.7, 73.3, 74.5, 74.9, 74.4, 79.5, 76.0, 76.8, 78.3, 77.1, 77.4, 76.4, 77.2, 77.9, 78.7, 79.6, 79.9, 77.6, 78.4, 77.8, 77.4, 76.5, 73.8, 74.9]\n",
    "madrid =     [83.8, 83.8, 73.6, 67.9, 68.0, 70.5, 73.2, 75.0, 78.7, 81.2, 76.7, 74.8, 78.7, 78.7, 84.6, 83.9, 83.6, 82.3, 79.3, 75.7, 73.6, 68.6, 68.8, 73.9, 76.0, 71.9, 71.8, 73.8, 77.3, 75.9, 71.7]\n",
    "stockholm =  [65.9, 62.7, 60.5, 63.9, 63.9, 63.9, 61.0, 58.1, 62.5, 63.1, 64.1, 63.6, 61.3, 64.4, 65.3, 63.6, 62.6, 62.1, 63.3, 60.3, 61.1, 59.4, 57.5, 54.7, 57.0, 61.4, 62.1, 62.4, 62.7, 61.0, 56.5]\n",
    "london =     [66.6, 63.1, 61.3, 63.9, 65.1, 68.7, 68.0, 66.8, 65.4, 67.8, 67.6, 68.8, 65.9, 67.6, 65.6, 65.6, 63.0, 62.2, 64.9, 63.4, 60.8, 62.4, 64.8, 67.8, 68.3, 65.7, 61.5, 60.4, 61.2, 62.3, 61.1]"
   ]
  },
  {
   "cell_type": "markdown",
   "metadata": {
    "id": "gcATC1S-7rTJ"
   },
   "source": [
    "## Section 1 - Summary Stats\n",
    "\n",
    "Using `numpy` load the data into `numpy` arrays. Include the code as well as the answers.\n",
    "To understand the data in more intesive way, we need to ask questins like:\n",
    "1.   What are the mean, min, and max temperatures of Paris?\n",
    "2.   What is the minimum and maximum temperature in Europe (from the 7 cities provided) for the month of August?\n",
    "3.   Which city had the greatest range of temperatures in August (max - min)?  What was it?\n",
    "4.   Which city had the smallest range of temperatures in August (max - min)?  What was it?\n",
    "5.   The daily average temperature of the 7 cities for the month.  The resulting should have 31 elements in it, one for each day, with each data point representing the mean of the 7 daily temperatures for that day.\n",
    "\n",
    "\n",
    "\n"
   ]
  },
  {
   "cell_type": "code",
   "execution_count": 3,
   "metadata": {
    "colab": {
     "base_uri": "https://localhost:8080/"
    },
    "id": "Rm-dqQEHBw8_",
    "outputId": "2e6d7643-6b06-419f-cc2c-21648ded385e"
   },
   "outputs": [
    {
     "name": "stdout",
     "output_type": "stream",
     "text": [
      "The Mean of the temperature in Paris is: 68.49\n",
      "The Min of the temperature in Paris is: 62.4\n",
      "The Max of the temperature in Paris is: 77.1\n"
     ]
    }
   ],
   "source": [
    "# 1 \n",
    "import numpy as np\n",
    "\n",
    "paris_stat = np.array([paris]) # create an array for paris\n",
    "mean = np.mean(paris_stat) # to get the mean\n",
    "min = np.min(paris_stat)   #  to get the min\n",
    "max = np.max(paris_stat)   # to get the max\n",
    "\n",
    "print(\"The Mean of the temperature in Paris is: \" + str(round(mean, 2)))\n",
    "print(\"The Min of the temperature in Paris is: \" + str(round(min, 2)))\n",
    "print(\"The Max of the temperature in Paris is: \" + str(round(max, 2)))\n",
    "\n"
   ]
  },
  {
   "cell_type": "code",
   "execution_count": null,
   "metadata": {
    "id": "gNx0eGDdB6fC"
   },
   "outputs": [],
   "source": [
    "# 2 \n",
    "euro_cities = np.array([paris, helsinki, copenhagen, rome, madrid, stockholm, london])\n",
    "\n",
    "# to get the max\n",
    "print(\"The Maximum Temperature in Europe is: \"+ str(np.max(euro_cities)))\n",
    "\n",
    "#to get the min\n",
    "print(\"The Maximum Temperature in Europe is: \"+ str(np.min(euro_cities)))\n",
    "\n",
    "\n",
    "#print(euro_cities)"
   ]
  },
  {
   "cell_type": "code",
   "execution_count": 8,
   "metadata": {
    "colab": {
     "base_uri": "https://localhost:8080/"
    },
    "id": "yN85h1LpB6_4",
    "outputId": "8d84543a-e67c-470f-bae1-5942678451b2"
   },
   "outputs": [
    {
     "name": "stdout",
     "output_type": "stream",
     "text": [
      "[14.7, 10.2, 10.0, 9.9, 16.7, 11.2, 8.4]\n",
      "The Greatest Range is Madrid with Range of: 16.7\n"
     ]
    }
   ],
   "source": [
    "# 3\n",
    "\n",
    "city_ranges = []\n",
    "\n",
    "for city in euro_cities:\n",
    "  for temper in city:\n",
    "    min = np.min(city)\n",
    "    max = np.max(city)\n",
    "    range = max - min\n",
    "  city_ranges.append(round(range, 2))\n",
    "\n",
    "\n",
    "print(city_ranges)\n",
    "print(\"The Greatest Range is Madrid with Range of: \" + str(np.max(city_ranges)))"
   ]
  },
  {
   "cell_type": "code",
   "execution_count": 9,
   "metadata": {
    "colab": {
     "base_uri": "https://localhost:8080/"
    },
    "id": "rZIBIv9TB7MC",
    "outputId": "3b14c98a-6609-4000-d336-68a0563c492c"
   },
   "outputs": [
    {
     "name": "stdout",
     "output_type": "stream",
     "text": [
      "[14.7, 10.2, 10.0, 9.9, 16.7, 11.2, 8.4]\n",
      "The Smallest Range is London with Range of: 8.4\n"
     ]
    }
   ],
   "source": [
    "# 4\n",
    "print(city_ranges)\n",
    "print(\"The Smallest Range is London with Range of: \" + str(np.min(city_ranges)))"
   ]
  },
  {
   "cell_type": "code",
   "execution_count": 10,
   "metadata": {
    "colab": {
     "base_uri": "https://localhost:8080/"
    },
    "id": "I4N05-cdB7ZF",
    "outputId": "6980c522-aff6-4db1-adbe-36380dc07e24"
   },
   "outputs": [
    {
     "name": "stdout",
     "output_type": "stream",
     "text": [
      "[ 1.   69.64]\n",
      "[ 2.   67.83]\n",
      "[ 3.   65.07]\n",
      "[ 4.   65.21]\n",
      "[ 5.   64.79]\n",
      "[ 6.   66.33]\n",
      "[ 7.  66.2]\n",
      "[ 8.  65.4]\n",
      "[ 9.   66.63]\n",
      "[10.   67.41]\n",
      "[11.   67.66]\n",
      "[12.   68.13]\n",
      "[13.   69.16]\n",
      "[14.   69.49]\n",
      "[15.  69.7]\n",
      "[16.   69.47]\n",
      "[17.   67.99]\n",
      "[18.   67.11]\n",
      "[19.  67.2]\n",
      "[20.   65.86]\n",
      "[21.  64.8]\n",
      "[22. 64.]\n",
      "[23.   64.31]\n",
      "[24.   65.69]\n",
      "[25.   67.11]\n",
      "[26.   66.49]\n",
      "[27.   65.31]\n",
      "[28.   65.51]\n",
      "[29.   66.44]\n",
      "[30.   65.44]\n",
      "[31.  63.7]\n"
     ]
    }
   ],
   "source": [
    "# 5\n",
    "\n",
    "temp =np.sum(euro_cities, axis=0)\n",
    "avg_temp = temp / 7\n",
    "\n",
    "for x in enumerate(avg_temp, 1): # to show number of days\n",
    "  avgg = np.round(x,2) \n",
    "  print((avgg))\n"
   ]
  },
  {
   "cell_type": "markdown",
   "metadata": {
    "id": "iOEwecFouFkj"
   },
   "source": [
    "## Section 2 - Data Transformation\n",
    "\n",
    "**Part 1\n",
    "Numbers are useful, but sometimes we can extract more insight from data if we find a way to group or categorize the numbers in a meaningful way.  For the temperature data, let's group this data into temperature categories as defined below.\n",
    "\n",
    "---\n",
    "\n",
    "\n",
    "80+ degrees: \"Hot\"\n",
    "\n",
    "70 <= x < 80 degrees:  \"Warm\"\n",
    "\n",
    "60 <= x < 70 degrees:  \"Cool\"\n",
    "\n",
    "Less than 60 degrees:  \"Cold\"\n",
    "\n",
    "---\n",
    "\n",
    "**Pick one city**, iterate through the temperature array and create a new array or list that contains the categories above based on the avg daily temperature.\n",
    "\n",
    "The output should thus be an array (or list) that has 31 elements.  Each element is a string that is either `\"Hot\"`, `\"Warm\"`, `\"Cool\"` or `\"Cold\"`. Let's name this new array `cityname_temperature_categories` where `cityname` should be replaced with the city you chose.\n",
    "\n",
    "Example:  The first few values of `paris_temperature_categories` would be `[\"Warm\", \"Cool\", \"Cool\", \"Cool\" ... ]`\n"
   ]
  },
  {
   "cell_type": "code",
   "execution_count": null,
   "metadata": {
    "colab": {
     "base_uri": "https://localhost:8080/",
     "height": 52
    },
    "id": "ze0Zv2Z4fJJn",
    "outputId": "29dd3649-01eb-42cf-af70-3647e8a58d92"
   },
   "outputs": [
    {
     "name": "stdout",
     "output_type": "stream",
     "text": [
      "['Warm', 'Cool', 'Cool', 'Cool', 'Cool', 'Cool', 'Warm', 'Cool', 'Warm', 'Cool', 'Cool', 'Warm', 'Warm', 'Warm', 'Warm', 'Cool', 'Cool', 'Cool', 'Cool', 'Cool', 'Cool', 'Cool', 'Cool', 'Warm', 'Warm', 'Warm', 'Cool', 'Cool', 'Cool', 'Cool', 'Cool']\n"
     ]
    }
   ],
   "source": [
    "# Write code below. \n",
    "\n",
    "any_city = np.array(city)\n",
    "list_city = []\n",
    "\n",
    "def any_temp(city):\n",
    "  for temp in city:\n",
    "    if temp  >= 80:\n",
    "      list_city.append(\"Hot\")\n",
    "    elif temp >= 70 and temp < 80:\n",
    "      list_city.append(\"Warm\")\n",
    "    elif temp >= 60 and temp < 70:\n",
    "      list_city.append(\"Cool\")\n",
    "    else:\n",
    "      list_city.append(\"Cold\")\n",
    "  return list_city\n",
    "\n",
    "any_temp(paris) # type any city in parameter\n",
    "\n",
    "print(list_city)\n",
    "# Print your output array below"
   ]
  },
  {
   "cell_type": "markdown",
   "metadata": {
    "id": "jytX9f2kZUIE"
   },
   "source": [
    "**Part 2 (4 points)**\n",
    "\n",
    "Suppose we want to better understand how the temperatures fluctuate from day to day. Let's create a new array (or list) that measures the delta between the temperature on **day** and **day+1**.  \n",
    "\n",
    "This should result in a an array/list with 30 elements in it.  The first element (at index 0) would be the temperature delta August 2 - August 1, the second element (at index 1) would be August 3 - August 2, and so on until the final element is August 31 - August 30. Let's name this new array `cityname_daily_deltas` where `cityname` should be replaced with the city you chose.\n",
    "\n",
    "Example: The first few values of `paris_daily_deltas` would be `[-8.7, -3. , -0.9,  2.2 ... ]`\n",
    "\n"
   ]
  },
  {
   "cell_type": "code",
   "execution_count": 11,
   "metadata": {
    "colab": {
     "base_uri": "https://localhost:8080/"
    },
    "id": "d-WFYOqvyBBu",
    "outputId": "e8b531ad-dbe8-497a-8baf-1b488658954a"
   },
   "outputs": [
    {
     "name": "stdout",
     "output_type": "stream",
     "text": [
      "[0.0, -10.2, -5.7, 0.1, 2.5, 2.7, 1.8, 3.7, 2.5, -4.5, -1.9, 3.9, 0.0, 5.9, -0.7, -0.3, -1.3, -3.0, -3.6, -2.1, -5.0, 0.2, 5.1, 2.1, -4.1, -0.1, 2.0, 3.5, -1.4, -4.2]\n",
      "30\n"
     ]
    }
   ],
   "source": [
    "# Write code below. \n",
    "city_daily_deltas = [] \n",
    "\n",
    "\n",
    "def city_delta(city):\n",
    "  n = 0 \n",
    "  x = 1\n",
    "  for d in city:\n",
    "    if x <  31:\n",
    "      delta = np.array(city[x])-np.array(city[n]) # to get the delta we substract x-n where x > n\n",
    "      n += 1 # if n increases by a day x increase +1day\n",
    "      x += 1\n",
    "      city_daily_deltas.append(round(delta, 2)) #  store the calculated delta for each day\n",
    "  print(city_daily_deltas)\n",
    "\n",
    "\n",
    "city_delta(madrid) # choose a city to get its delta. *** any typed city will reflect on part 3 too.\n",
    "\n",
    "print(len(city_daily_deltas)) # test for 30 elementes\n",
    "\n"
   ]
  },
  {
   "cell_type": "markdown",
   "metadata": {
    "id": "ye32P-SFNcaP"
   },
   "source": [
    "**Part 3**\n",
    "\n",
    "Now, we want to translate the deltas in the delta arrays we created in Part 2 from numeric values into text categories.  Using the following definitions, create new arrays (or lists) that contain the given text string translation of the numeric value.  \n",
    "\n",
    "The result should be an arrays with 30 elements, as we are simply transforming the numeric values into text categories. Let's name this new array `cityname_daily_delta_categories` where `cityname` should be replaced with the city you chose in part 2.\n",
    "\n",
    "Example: The first few values of `paris_daily_delta_categories` would be [\"large_decrease\", \"small_decrease\" , \"no_significant_change\", \"small_increase\" ... ]\n",
    "\n",
    "---\n",
    "\n",
    "\n",
    "x >= 7     : \"large_increase\"\n",
    "\n",
    "3 <= x < 7 : \"medium_increase\"\n",
    "\n",
    "1 <= x < 3 : \"small_increase\" \n",
    "\n",
    "-1 <= x < 1 : \"no_significant_change\"\n",
    "\n",
    "-3 <= x < -1 : \"small_decrease\"\n",
    "\n",
    "-7 <= x < -3 : \"medium_decrease\"\n",
    "\n",
    "x < -7       : \"large_decrease\"\n",
    "\n",
    "\n",
    "---\n",
    "\n",
    "*Challenge: For a challenge (not required), find a way to scale your transformation solution to all 7 cities, perhaps using loops or functions*\n",
    "\n"
   ]
  },
  {
   "cell_type": "code",
   "execution_count": 12,
   "metadata": {
    "colab": {
     "base_uri": "https://localhost:8080/"
    },
    "id": "xIjlmjJrNbUJ",
    "outputId": "468c9fe4-0656-4b0f-ffd1-e5bc966005f7"
   },
   "outputs": [
    {
     "name": "stdout",
     "output_type": "stream",
     "text": [
      "[0.0, -10.2, -5.7, 0.1, 2.5, 2.7, 1.8, 3.7, 2.5, -4.5, -1.9, 3.9, 0.0, 5.9, -0.7, -0.3, -1.3, -3.0, -3.6, -2.1, -5.0, 0.2, 5.1, 2.1, -4.1, -0.1, 2.0, 3.5, -1.4, -4.2]\n",
      "30 ['no_significant_change', 'large_decrease', 'medium_decrease', 'no_significant_change', 'small_increase', 'small_increase', 'small_increase', 'medium_increase', 'small_increase', 'medium_decrease', 'small_decrease', 'medium_increase', 'no_significant_change', 'medium_increase', 'no_significant_change', 'no_significant_change', 'small_decrease', 'small_decrease', 'medium_decrease', 'small_decrease', 'medium_decrease', 'no_significant_change', 'medium_increase', 'small_increase', 'medium_decrease', 'no_significant_change', 'small_increase', 'medium_increase', 'small_decrease', 'medium_decrease']\n"
     ]
    }
   ],
   "source": [
    "# Write your code below. \n",
    "\n",
    "# run part 2 first and make sure to choose a city. This code will be reflected based on what city you choose from part 2\n",
    "\n",
    "city_d = print(city_daily_deltas)\n",
    "\n",
    "city_daily_categories = [] # store categories based on any city chosen from part 2\n",
    "\n",
    "def city_catg():\n",
    "  for catg in city_daily_deltas:\n",
    "    if catg >= 7:\n",
    "      city_daily_categories.append(\"large_increase\")\n",
    "    elif catg >= 3 and catg < 7:\n",
    "      city_daily_categories.append(\"medium_increase\")\n",
    "    elif catg >= 1 and catg < 3:\n",
    "      city_daily_categories.append(\"small_increase\")\n",
    "    elif catg >= -1 and catg < 1:\n",
    "      city_daily_categories.append(\"no_significant_change\")\n",
    "    elif catg >= -3 and catg < -1:\n",
    "      city_daily_categories.append(\"small_decrease\")\n",
    "    elif catg >= -7 and catg < -3:\n",
    "      city_daily_categories.append(\"medium_decrease\")\n",
    "    else:\n",
    "      city_daily_categories.append(\"large_decrease\")\n",
    "  return city_daily_categories\n",
    "\n",
    "city_catg() \n",
    "print(len(city_daily_categories), city_daily_categories) # len is to make sure this is a 30 days of changes\n",
    "\n",
    "\n",
    "\n"
   ]
  },
  {
   "cell_type": "markdown",
   "metadata": {
    "id": "wXFLdRfHk7Re"
   },
   "source": [
    "## Section 3 - Histogram\n",
    "\n",
    "By writting a **function** to create a histogram (a frequency distribution) of an arbitrary list of input values.  The function will take in as input a **list** of values, and return a dictionary with **keys** representing each value in the input list and **values** representing the frequency with which they appear in the input list.\n",
    "\n",
    "For example, given input `[\"M\", \"F\", \"F\", \"F, \"M\"]`, the function should return `{\"M\": 2, \"F\": 3}` as there are two \"M\" and three \"F\" in the input list.\n",
    "\n"
   ]
  },
  {
   "cell_type": "code",
   "execution_count": 13,
   "metadata": {
    "id": "pIfoUtNLk2BO"
   },
   "outputs": [],
   "source": [
    "def create_histogram(input_list):\n",
    "    histogram = {}\n",
    "    for a in input_list:\n",
    "      if a in histogram:\n",
    "        histogram[a] += 1\n",
    "      else:\n",
    "        histogram[a] = 1\n",
    " \n",
    "    # fill in your code below\n",
    "    # then execute this code block to define the function\n",
    "\n",
    "    return histogram"
   ]
  },
  {
   "cell_type": "code",
   "execution_count": 15,
   "metadata": {
    "colab": {
     "base_uri": "https://localhost:8080/"
    },
    "id": "qBqMgrazo12V",
    "outputId": "e7eec4b9-edd1-4fe9-806c-faeb12637082"
   },
   "outputs": [
    {
     "name": "stdout",
     "output_type": "stream",
     "text": [
      "Passed first test case\n",
      "Passed second test case\n",
      "Passed third test case\n",
      "Passes all tests\n"
     ]
    }
   ],
   "source": [
    "# testing cases of histogram data\n",
    "assert(create_histogram([1,1,1,1,1,1,1,1,1,2]) == {1:9, 2:1})\n",
    "print(\"Passed first test case\")\n",
    "assert(create_histogram([\"black\", \"blue\", \"yellow\", \"black\", \"blue\", \"red\", \"\", \"green\"]) == {'': 1, 'black': 2, 'blue': 2, 'green': 1, 'red': 1, 'yellow': 1})\n",
    "print(\"Passed second test case\")\n",
    "assert(create_histogram([l for l in \"how many of each letter are in this sentence\"]) == \n",
    "{' ': 8,\n",
    " 'a': 3,\n",
    " 'c': 2,\n",
    " 'e': 7,\n",
    " 'f': 1,\n",
    " 'h': 3,\n",
    " 'i': 2,\n",
    " 'l': 1,\n",
    " 'm': 1,\n",
    " 'n': 4,\n",
    " 'o': 2,\n",
    " 'r': 2,\n",
    " 's': 2,\n",
    " 't': 4,\n",
    " 'w': 1,\n",
    " 'y': 1})\n",
    "print(\"Passed third test case\")\n",
    "print(\"Passes all tests\")"
   ]
  },
  {
   "cell_type": "markdown",
   "metadata": {
    "id": "_1hLMwD7sRke"
   },
   "source": [
    "**Putting it all together**\n",
    "\n",
    "By running  new `create_histogram` function on the arrays created from Section 2 to see the frequency distribution of the categories you defined.  \n",
    "\n",
    "The code below will be relative distributions of the temperature categories and delta categories across cities.*"
   ]
  },
  {
   "cell_type": "code",
   "execution_count": 16,
   "metadata": {
    "colab": {
     "base_uri": "https://localhost:8080/"
    },
    "id": "IK06tvKxgK8D",
    "outputId": "6ad165b8-d895-4f1a-a0af-201381a90591"
   },
   "outputs": [
    {
     "name": "stdout",
     "output_type": "stream",
     "text": [
      "{0.0: 2, -10.2: 1, -5.7: 1, 0.1: 1, 2.5: 2, 2.7: 1, 1.8: 1, 3.7: 1, -4.5: 1, -1.9: 1, 3.9: 1, 5.9: 1, -0.7: 1, -0.3: 1, -1.3: 1, -3.0: 1, -3.6: 1, -2.1: 1, -5.0: 1, 0.2: 1, 5.1: 1, 2.1: 1, -4.1: 1, -0.1: 1, 2.0: 1, 3.5: 1, -1.4: 1, -4.2: 1}\n",
      "{'no_significant_change': 7, 'large_decrease': 1, 'medium_decrease': 6, 'small_increase': 6, 'medium_increase': 5, 'small_decrease': 5}\n"
     ]
    }
   ],
   "source": [
    "# Pass the arrays you created in Section 2 into your `create_histogram` function\n",
    "print(create_histogram(city_daily_deltas))\n",
    "print(create_histogram(city_daily_categories))\n"
   ]
  }
 ],
 "metadata": {
  "colab": {
   "collapsed_sections": [],
   "name": "Data_Science_top_city_temperature_analysis",
   "provenance": []
  },
  "kernelspec": {
   "display_name": "Python 3",
   "language": "python",
   "name": "python3"
  },
  "language_info": {
   "codemirror_mode": {
    "name": "ipython",
    "version": 3
   },
   "file_extension": ".py",
   "mimetype": "text/x-python",
   "name": "python",
   "nbconvert_exporter": "python",
   "pygments_lexer": "ipython3",
   "version": "3.8.5"
  }
 },
 "nbformat": 4,
 "nbformat_minor": 4
}
